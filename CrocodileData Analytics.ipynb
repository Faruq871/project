{
 "cells": [
  {
   "cell_type": "code",
   "execution_count": 1,
   "id": "34165c5a-853d-4d24-b7b2-8abed739de05",
   "metadata": {},
   "outputs": [],
   "source": [
    "import pandas as pd\n",
    "import numpy as np\n",
    "import seaborn as sns\n",
    "import matplotlib.pyplot as plt\n",
    "import math\n",
    "import statistics\n",
    "import sklearn\n",
    "import statsmodels.api as sm\n",
    "from sklearn.model_selection import train_test_split, cross_val_score\n",
    "from sklearn.preprocessing import StandardScaler, OneHotEncoder\n",
    "from sklearn.compose import ColumnTransformer\n",
    "from sklearn.pipeline import Pipeline\n",
    "from sklearn.ensemble import RandomForestRegressor, GradientBoostingRegressor\n",
    "from sklearn.metrics import mean_absolute_error, r2_score, mean_squared_error"
   ]
  },
  {
   "cell_type": "markdown",
   "id": "f593a8f7-9e1d-4104-8e18-e7114e9899c2",
   "metadata": {},
   "source": [
    "# Main Question\n",
    "\n",
    "1. Load the data, display the first 5 rows and summarize the information.\n",
    "2. Identify missing data and suggest how to address them.\n",
    "3. Calculate basic statistics (mean, median, etc.) for length and weight.\n",
    "4. Count and create a bar chart of the number of crocodiles by conservation status.\n",
    "5. Create a scatter plot to see the relationship between length and weight.\n",
    "6. Calculate the average crocodile length for each age class.\n",
    "7. Convert the date column to 'datetime' format and create a year column.\n",
    "8. Explain how to test for weight differences between male and female crocodiles.\n",
    "9. What features and models would you use to predict crocodile weight?\n",
    "10. What metrics would be appropriate for evaluating the weight prediction model?"
   ]
  },
  {
   "cell_type": "code",
   "execution_count": 2,
   "id": "5d8003e4-bc00-47c0-abf8-c30d630f0c32",
   "metadata": {},
   "outputs": [],
   "source": [
    "df=pd.read_csv(r\"C:\\Users\\FARUQ\\Downloads\\archive (2)\\crocodile_dataset.csv\") #load the dataset"
   ]
  },
  {
   "cell_type": "markdown",
   "id": "d1eef126-2b5f-440d-a30f-59d09eb9ceec",
   "metadata": {},
   "source": [
    "## 1. Load the data, display the first 5 rows"
   ]
  },
  {
   "cell_type": "code",
   "execution_count": 3,
   "id": "45615159-6994-4abb-9b17-86afd4a44a4f",
   "metadata": {},
   "outputs": [
    {
     "data": {
      "text/html": [
       "<div>\n",
       "<style scoped>\n",
       "    .dataframe tbody tr th:only-of-type {\n",
       "        vertical-align: middle;\n",
       "    }\n",
       "\n",
       "    .dataframe tbody tr th {\n",
       "        vertical-align: top;\n",
       "    }\n",
       "\n",
       "    .dataframe thead th {\n",
       "        text-align: right;\n",
       "    }\n",
       "</style>\n",
       "<table border=\"1\" class=\"dataframe\">\n",
       "  <thead>\n",
       "    <tr style=\"text-align: right;\">\n",
       "      <th></th>\n",
       "      <th>Observation ID</th>\n",
       "      <th>Common Name</th>\n",
       "      <th>Scientific Name</th>\n",
       "      <th>Family</th>\n",
       "      <th>Genus</th>\n",
       "      <th>Observed Length (m)</th>\n",
       "      <th>Observed Weight (kg)</th>\n",
       "      <th>Age Class</th>\n",
       "      <th>Sex</th>\n",
       "      <th>Date of Observation</th>\n",
       "      <th>Country/Region</th>\n",
       "      <th>Habitat Type</th>\n",
       "      <th>Conservation Status</th>\n",
       "      <th>Observer Name</th>\n",
       "      <th>Notes</th>\n",
       "    </tr>\n",
       "  </thead>\n",
       "  <tbody>\n",
       "    <tr>\n",
       "      <th>0</th>\n",
       "      <td>1</td>\n",
       "      <td>Morelet's Crocodile</td>\n",
       "      <td>Crocodylus moreletii</td>\n",
       "      <td>Crocodylidae</td>\n",
       "      <td>Crocodylus</td>\n",
       "      <td>1.90</td>\n",
       "      <td>62.0</td>\n",
       "      <td>Adult</td>\n",
       "      <td>Male</td>\n",
       "      <td>31-03-2018</td>\n",
       "      <td>Belize</td>\n",
       "      <td>Swamps</td>\n",
       "      <td>Least Concern</td>\n",
       "      <td>Allison Hill</td>\n",
       "      <td>Cause bill scientist nation opportunity.</td>\n",
       "    </tr>\n",
       "    <tr>\n",
       "      <th>1</th>\n",
       "      <td>2</td>\n",
       "      <td>American Crocodile</td>\n",
       "      <td>Crocodylus acutus</td>\n",
       "      <td>Crocodylidae</td>\n",
       "      <td>Crocodylus</td>\n",
       "      <td>4.09</td>\n",
       "      <td>334.5</td>\n",
       "      <td>Adult</td>\n",
       "      <td>Male</td>\n",
       "      <td>28-01-2015</td>\n",
       "      <td>Venezuela</td>\n",
       "      <td>Mangroves</td>\n",
       "      <td>Vulnerable</td>\n",
       "      <td>Brandon Hall</td>\n",
       "      <td>Ago current practice nation determine operatio...</td>\n",
       "    </tr>\n",
       "  </tbody>\n",
       "</table>\n",
       "</div>"
      ],
      "text/plain": [
       "   Observation ID          Common Name       Scientific Name        Family  \\\n",
       "0               1  Morelet's Crocodile  Crocodylus moreletii  Crocodylidae   \n",
       "1               2   American Crocodile     Crocodylus acutus  Crocodylidae   \n",
       "\n",
       "        Genus  Observed Length (m)  Observed Weight (kg) Age Class   Sex  \\\n",
       "0  Crocodylus                 1.90                  62.0     Adult  Male   \n",
       "1  Crocodylus                 4.09                 334.5     Adult  Male   \n",
       "\n",
       "  Date of Observation Country/Region Habitat Type Conservation Status  \\\n",
       "0          31-03-2018         Belize       Swamps       Least Concern   \n",
       "1          28-01-2015      Venezuela    Mangroves          Vulnerable   \n",
       "\n",
       "  Observer Name                                              Notes  \n",
       "0  Allison Hill           Cause bill scientist nation opportunity.  \n",
       "1  Brandon Hall  Ago current practice nation determine operatio...  "
      ]
     },
     "execution_count": 3,
     "metadata": {},
     "output_type": "execute_result"
    }
   ],
   "source": [
    "df.head(2)"
   ]
  },
  {
   "cell_type": "markdown",
   "id": "2a4931b7-3890-4a37-b15e-ad1784dd52d9",
   "metadata": {},
   "source": [
    "## 2. Identify missing data "
   ]
  },
  {
   "cell_type": "code",
   "execution_count": 4,
   "id": "f82e0e07-70d4-4e86-aba1-d308a8ce9e47",
   "metadata": {},
   "outputs": [
    {
     "data": {
      "text/plain": [
       "Observation ID          0\n",
       "Common Name             0\n",
       "Scientific Name         0\n",
       "Family                  0\n",
       "Genus                   0\n",
       "Observed Length (m)     0\n",
       "Observed Weight (kg)    0\n",
       "Age Class               0\n",
       "Sex                     0\n",
       "Date of Observation     0\n",
       "Country/Region          0\n",
       "Habitat Type            0\n",
       "Conservation Status     0\n",
       "Observer Name           0\n",
       "Notes                   0\n",
       "dtype: int64"
      ]
     },
     "execution_count": 4,
     "metadata": {},
     "output_type": "execute_result"
    }
   ],
   "source": [
    "df.isnull().sum() #checking Nan value"
   ]
  },
  {
   "cell_type": "code",
   "execution_count": 5,
   "id": "3381f370-2932-4a95-8a1b-77ecab140567",
   "metadata": {},
   "outputs": [
    {
     "name": "stdout",
     "output_type": "stream",
     "text": [
      "[1.9  4.09 1.08 2.42 3.75 2.64 2.85 0.35 3.05 3.39 1.22 1.84 2.63 3.65\n",
      " 1.32 2.   1.98 4.37 1.07 1.55 2.52 4.65 1.77 2.44 3.18 0.34 3.94 3.22\n",
      " 4.71 2.04 4.11 1.01 0.76 2.26 1.48 2.96 1.05 2.72 3.25 3.57 0.29 2.33\n",
      " 2.5  3.04 3.4  2.43 2.51 0.96 5.83 2.97 0.43 2.05 5.43 2.56 1.18 3.78\n",
      " 1.93 1.25 2.23 3.66 1.85 4.9  1.2  2.9  4.34 2.54 2.15 2.13 1.69 5.07\n",
      " 1.1  3.02 1.6  2.31 0.79 1.23 2.82 2.76 2.45 3.32 3.88 1.96 1.21 2.7\n",
      " 3.08 2.4  2.71 2.21 4.86 2.27 2.58 2.93 2.28 3.07 2.57 2.46 3.59 1.59\n",
      " 4.68 5.1  4.55 5.22 0.86 2.69 1.37 3.19 2.87 2.88 2.07 1.52 1.57 2.81\n",
      " 1.94 3.11 2.36 3.68 3.41 1.47 2.17 1.53 0.88 3.13 3.27 0.16 6.02 0.6\n",
      " 0.94 2.22 3.1  2.75 5.48 3.85 1.13 0.36 4.21 1.49 1.04 2.79 1.12 3.7\n",
      " 2.98 5.32 2.1  2.01 0.5  1.03 0.87 2.18 2.74 1.   0.99 2.89 3.58 0.56\n",
      " 2.25 4.62 1.83 1.51 5.91 3.09 2.61 0.93 1.64 0.33 2.03 2.77 2.78 1.92\n",
      " 1.4  1.79 2.99 0.82 3.14 1.74 2.94 1.88 1.99 1.46 2.14 1.42 3.55 2.8\n",
      " 1.24 2.86 0.38 3.56 3.51 3.53 3.06 1.56 0.58 4.   2.68 2.08 5.18 2.67\n",
      " 4.19 1.28 1.78 1.76 2.02 1.31 2.29 1.36 4.96 1.11 3.15 2.48 1.63 1.35\n",
      " 3.62 2.06 2.92 1.34 4.33 1.67 2.73 1.73 3.3  1.75 3.   0.72 1.86 3.81\n",
      " 2.59 2.95 3.49 0.61 0.24 0.9  1.09 0.65 0.15 3.28 4.16 4.78 3.03 0.78\n",
      " 4.1  1.61 0.84 4.07 2.6  6.12 1.58 1.82 0.64 1.66 1.91 2.41 0.53 3.12\n",
      " 0.46 1.89 0.48 3.44 2.11 2.66 2.16 3.36 0.49 2.34 3.91 2.91 1.06 2.55\n",
      " 1.54 2.09 1.95 2.2  3.74 2.62 1.33 3.87 0.7  3.83 3.01 0.91 1.45 3.52\n",
      " 1.68 3.43 5.31 4.22 0.27 2.24 1.87 3.77 0.57 0.28 3.69 3.61 0.26 4.41\n",
      " 3.96 2.35 0.97 5.79 0.39 4.24 4.18 0.41 5.4  0.47 1.81 4.35 0.32 3.9\n",
      " 2.39 4.99 2.32 4.31 1.16 0.37 2.3  4.69 4.44 1.62 3.71 2.83 3.38 3.42\n",
      " 1.29 0.8  1.97 2.53 3.46 0.23 0.71 4.02 4.29 3.98 5.05 4.51 1.38 0.17\n",
      " 0.69 4.76 1.3  2.47 0.81 1.7  3.79 4.03 0.73 4.39 2.49 3.29 3.17 3.8\n",
      " 3.64 1.8  3.26 2.12 0.98 3.35 1.41 1.26 1.71 1.15 3.45 0.14 3.23 4.14\n",
      " 3.48 1.14 2.65 0.95 2.38 3.24 4.48 3.16 4.81 5.2  4.23 4.79 3.6  4.54\n",
      " 3.72 4.84 5.13 3.97 0.19 4.01 3.21 3.67 4.5  2.84 2.37 0.92] [  62.   334.5  118.2   90.4  269.4  137.4  157.7    4.7  201.2  197.2\n",
      "   15.8   60.7  121.3  217.7   19.2   67.9   61.5  565.    31.1  350.9\n",
      "   89.6  759.8   36.   107.9  342.1   42.4  174.9  367.9  196.6  576.6\n",
      "   80.2  324.4   85.6   28.9   36.7   84.2   21.9  182.7   24.   150.3\n",
      "  195.6  387.4   33.2   74.    90.6  104.1  155.   316.6   96.9   87.4\n",
      "  229.3  149.9   31.8  953.9  120.1   71.7   93.9   70.8   91.6  818.2\n",
      "  133.9  136.2   12.5  383.2   46.7  106.5   19.3   81.8  262.6   67.3\n",
      "  629.7   38.   165.4  596.2  103.3   75.1   86.4   63.7  791.7   41.1\n",
      "  180.7   47.    36.3   90.9   34.2   13.1  159.3  152.5   75.8  102.4\n",
      "  309.5  273.6  133.2   54.8  131.1  188.3   91.7  125.3   64.9  760.5\n",
      "   76.7  109.7  104.3  147.4   74.5  104.8  199.3   82.1  100.2  159.9\n",
      "  402.7   37.4   38.1  692.4  163.4  827.2  158.4  524.1  809.     8.1\n",
      "  100.3   18.1   86.1  153.6  190.    82.8  199.9  213.1  154.9   47.9\n",
      "   64.8   39.   621.4   75.5   27.1  126.9  344.   129.1  120.6   65.9\n",
      "  107.   179.1   87.9  273.7   78.6  220.3   21.3  121.    60.6   20.3\n",
      "   32.3  362.6  177.7   28.2  171.9 1032.7   76.1    6.9  149.5   39.1\n",
      "   74.6   10.8  146.8  143.8  878.6  479.    12.3   70.2  517.3   88.7\n",
      "   26.9  259.1  122.1   90.7   13.6  114.5  123.4   41.7  328.6  153.5\n",
      "  868.3   70.3   64.3   26.4   11.3   36.9   75.2  101.7  133.6   29.5\n",
      "   10.   103.5   11.7   83.   160.1  266.2  522.8   54.2  104.2  712.\n",
      "   54.7   22.3  906.6  120.7 1085.6   23.7  169.1  134.2  113.3    8.4\n",
      "   42.3  105.1   32.6   73.2   94.8   40.7  130.   111.4  100.4  107.4\n",
      "  346.7   22.8   66.7  215.3  128.   336.8  190.6   48.3   93.2  139.7\n",
      "  133.3   55.3   57.7   78.3   23.3   45.7  143.    25.1   84.4   52.5\n",
      "  405.8  165.3   13.5  169.2  164.1   22.   437.1   10.4  241.3  233.8\n",
      "  162.8  160.3   59.1   47.1  438.8   11.9  223.   418.9  151.8   84.8\n",
      "  286.7  848.2  118.9  541.7  125.4   15.4  253.9   96.7   48.7   69.2\n",
      "   21.1  125.2   83.8  144.5   15.7   16.9   30.9   20.2  637.2   14.6\n",
      "  187.8   25.   153.8  101.5   23.   437.6  119.8   76.2   75.7  150.7\n",
      "   15.5   43.1  449.3   83.5   43.5   33.9  658.3   48.8  142.5  121.2\n",
      "  138.5  181.1  104.6   45.3  193.4  218.    73.1   42.5  130.3   33.5\n",
      "   83.7   50.8   82.   493.9   71.6  127.1   74.7   90.2  188.   230.9\n",
      "   97.8  170.   305.4   56.4   87.2  149.4  166.7  168.7    9.    87.1\n",
      "   20.5  139.4   13.9  129.9   97.9   97.3    5.4  168.    92.5  217.2\n",
      "   41.8  114.   558.3   88.4  696.    19.    59.3   65.8  145.9   33.3\n",
      "   95.     6.5  513.9   40.4   28.5  194.1    9.9  352.7   37.6  186.3\n",
      "  155.3  196.7  106.1 1139.7   36.6  191.8   59.    37.1   63.1   47.8\n",
      "   48.4  110.9   89.9   51.4   34.7   76.    75.   263.9  166.5  158.5\n",
      "    5.2  146.9   62.4   42.6   60.1   55.6   31.5  134.5   60.9  195.5\n",
      "  161.    35.1  197.1   22.6   77.1  116.2  473.1  183.4   28.4  698.8\n",
      "   17.3  197.6   53.4   70.5  121.9  101.4  178.8  196.1  134.    63.2\n",
      "   40.5   76.8   62.6  512.7  114.2   11.2  114.9   91.4   89.4   96.8\n",
      "   70.7   79.3  550.   118.3   86.8  517.7  147.9   65.4  117.5  126.\n",
      "  239.   103.    88.6   19.7  347.9   65.1   97.2   32.2   33.4  461.5\n",
      "  141.   141.8   26.6  191.7  133.4  129.6   94.9  102.   334.3  998.3\n",
      "  144.4   39.8   18.9   88.5  194.4  209.5  124.    56.7  106.   441.8\n",
      "  149.7   19.9   99.8   98.   400.    52.7   41.6  118.    33.6  118.5\n",
      "   60.8  324.6   66.   379.4  143.2  419.4   84.7  399.7   44.6  179.8\n",
      "   32.4  646.1  150.2  125.8  695.5  124.4  385.8   87.5   93.5  106.9\n",
      "  127.4   77.   136.8   81.4  110.1   28.3  904.4  108.8  115.8  200.8\n",
      "   96.3   57.1  154.3   27.4   18.   249.9  156.3  100.7  444.1  542.3\n",
      "  126.3    5.5   20.1   17.5   68.5  765.7   34.5   24.2   67.4   45.5\n",
      "  507.6   34.1  196.2  210.4  134.8  124.6  160.9  150.1   33.8   11.\n",
      "   71.9  428.9  601.3  102.9   98.6  779.4  514.4  168.8   25.5   97.4\n",
      "  217.9   66.9  101.    78.9   80.8   49.8   65.2  122.6  210.9   25.3\n",
      "   36.8   78.4  145.8  351.5  738.4   67.5  509.4   38.9   75.6  117.4\n",
      "   87.7  275.8  109.3  381.1  125.6   44.    29.3   51.2   95.7   60.4\n",
      "  141.9   73.6  203.8  223.3   15.6  298.1  111.8  107.5   63.9   77.9\n",
      "   29.1  202.8  140.1  208.3    4.4   30.5   15.1  441.   174.   161.3\n",
      "  647.7  571.8  357.4  130.6   88.8  624.1   91.1  642.3   22.7  147.2\n",
      "  311.2  103.1   35.    26.    80.7  115.4   14.1    5.     6.4  638.5\n",
      "   30.7  472.1   97.   198.5   45.9  134.6   98.1   69.6  131.    99.3\n",
      "   24.1  125.1  158.9  338.5  280.9  192.    51.7   56.3  140.2   47.6\n",
      "   84.3  146.1  292.8  198.2  106.7   34.8  167.6  100.5  121.4   20.\n",
      "  578.9  115.5  107.8  167.1  527.9  180.2  418.1   53.9  200.2   95.5\n",
      "  238.3   86.5  164.   535.1  211.9  214.5  101.3  296.2  280.   109.2\n",
      "  120.3  139.6   41.4   40.3   78.7  413.2   44.7  184.9  102.1   17.\n",
      "   71.2  233.2  117.3   75.9  498.9   29.   132.    83.9    9.5    9.4\n",
      "  190.5   25.2   43.4   74.1  517.9  215.    91.9  197.9  113.1  193.2\n",
      "   40.9   38.4   23.6   73.8  660.4   14.    11.5  164.6   65.5  201.3\n",
      "  389.4  135.6  115.1   49.2  349.6  183.9  152.6   61.7   79.5  185.8\n",
      "  117.6   87.    73.5  515.7  220.9  353.    11.1  118.4  310.1  187.6\n",
      "  162.7  482.8   47.5  100.9  133.7  123.3  108.4  112.5   76.4  216.9\n",
      "   50.9   35.8   19.8  283.5  445.1  604.8   51.5   79.1  105.8  155.2\n",
      "  636.5  157.6  122.3  751.3  145.6  108.1   58.9  918.4  427.3  102.7\n",
      "  307.4   37.7  157.5   78.2  178.7  524.7  118.1  187.3   49.3   32.7\n",
      "   77.3  718.2   96.4   89.8  263.2  593.9   27.7  225.8  514.5   57.8\n",
      "   54.4  639.9   11.6  404.5   86.9  765.1    7.7   79.4  105.9  155.1\n",
      "  137.8  120.8  174.6  108.   252.   138.1  192.7   78.8  173.   269.9\n",
      "   72.3  317.9  364.2   25.8  509.2   56.1  204.8  219.8  111.5  185.2\n",
      "   51.1   35.4   65.6  269.8  131.4   83.1  143.3  141.4  598.5   63.6\n",
      "  581.   146.4  310.3  661.7  133.1  146.7  138.2  202.3  204.5  117.2\n",
      "   27.3   52.1   80.3   69.     6.8   80.4  113.2  272.3  163.6   26.5\n",
      "  121.5  285.8    4.9  159.5  112.3  147.6   47.4] ['Male' 'Unknown' 'Female']\n"
     ]
    }
   ],
   "source": [
    "print(df['Observed Length (m)'].unique(),df['Observed Weight (kg)'].unique(),df['Sex'].unique()) #checking if any "
   ]
  },
  {
   "cell_type": "markdown",
   "id": "687cd949-b6cd-46d4-b06d-ee4c73678841",
   "metadata": {},
   "source": [
    "## 3. Calculate basic statistics (mean, median, etc.) for length and weight."
   ]
  },
  {
   "cell_type": "code",
   "execution_count": 6,
   "id": "5e67647b-4f53-461e-a56d-6aebd83fa035",
   "metadata": {},
   "outputs": [
    {
     "data": {
      "text/html": [
       "<div>\n",
       "<style scoped>\n",
       "    .dataframe tbody tr th:only-of-type {\n",
       "        vertical-align: middle;\n",
       "    }\n",
       "\n",
       "    .dataframe tbody tr th {\n",
       "        vertical-align: top;\n",
       "    }\n",
       "\n",
       "    .dataframe thead th {\n",
       "        text-align: right;\n",
       "    }\n",
       "</style>\n",
       "<table border=\"1\" class=\"dataframe\">\n",
       "  <thead>\n",
       "    <tr style=\"text-align: right;\">\n",
       "      <th></th>\n",
       "      <th>Observed Length (m)</th>\n",
       "      <th>Observed Weight (kg)</th>\n",
       "    </tr>\n",
       "  </thead>\n",
       "  <tbody>\n",
       "    <tr>\n",
       "      <th>count</th>\n",
       "      <td>1000.000000</td>\n",
       "      <td>1000.000000</td>\n",
       "    </tr>\n",
       "    <tr>\n",
       "      <th>mean</th>\n",
       "      <td>2.415110</td>\n",
       "      <td>155.771900</td>\n",
       "    </tr>\n",
       "    <tr>\n",
       "      <th>std</th>\n",
       "      <td>1.097542</td>\n",
       "      <td>175.186788</td>\n",
       "    </tr>\n",
       "    <tr>\n",
       "      <th>min</th>\n",
       "      <td>0.140000</td>\n",
       "      <td>4.400000</td>\n",
       "    </tr>\n",
       "    <tr>\n",
       "      <th>25%</th>\n",
       "      <td>1.637500</td>\n",
       "      <td>53.225000</td>\n",
       "    </tr>\n",
       "    <tr>\n",
       "      <th>50%</th>\n",
       "      <td>2.430000</td>\n",
       "      <td>100.600000</td>\n",
       "    </tr>\n",
       "    <tr>\n",
       "      <th>75%</th>\n",
       "      <td>3.010000</td>\n",
       "      <td>168.875000</td>\n",
       "    </tr>\n",
       "    <tr>\n",
       "      <th>max</th>\n",
       "      <td>6.120000</td>\n",
       "      <td>1139.700000</td>\n",
       "    </tr>\n",
       "  </tbody>\n",
       "</table>\n",
       "</div>"
      ],
      "text/plain": [
       "       Observed Length (m)  Observed Weight (kg)\n",
       "count          1000.000000           1000.000000\n",
       "mean              2.415110            155.771900\n",
       "std               1.097542            175.186788\n",
       "min               0.140000              4.400000\n",
       "25%               1.637500             53.225000\n",
       "50%               2.430000            100.600000\n",
       "75%               3.010000            168.875000\n",
       "max               6.120000           1139.700000"
      ]
     },
     "execution_count": 6,
     "metadata": {},
     "output_type": "execute_result"
    }
   ],
   "source": [
    "df[\"Observation ID\"]=df[\"Observation ID\"].astype('object')\n",
    "df.describe()"
   ]
  },
  {
   "cell_type": "markdown",
   "id": "d780ebed-9a2d-413b-93b8-2bbe40e4d33a",
   "metadata": {},
   "source": [
    "## 4. Count and create a bar chart of the number of crocodiles by conservation status"
   ]
  },
  {
   "cell_type": "code",
   "execution_count": 7,
   "id": "b6f90a33-3f69-48b8-8d92-e3c110931b4e",
   "metadata": {},
   "outputs": [
    {
     "data": {
      "text/html": [
       "<div>\n",
       "<style scoped>\n",
       "    .dataframe tbody tr th:only-of-type {\n",
       "        vertical-align: middle;\n",
       "    }\n",
       "\n",
       "    .dataframe tbody tr th {\n",
       "        vertical-align: top;\n",
       "    }\n",
       "\n",
       "    .dataframe thead th {\n",
       "        text-align: right;\n",
       "    }\n",
       "</style>\n",
       "<table border=\"1\" class=\"dataframe\">\n",
       "  <thead>\n",
       "    <tr style=\"text-align: right;\">\n",
       "      <th></th>\n",
       "      <th>Conservation Status</th>\n",
       "      <th>Observation ID</th>\n",
       "    </tr>\n",
       "  </thead>\n",
       "  <tbody>\n",
       "    <tr>\n",
       "      <th>0</th>\n",
       "      <td>Critically Endangered</td>\n",
       "      <td>275</td>\n",
       "    </tr>\n",
       "    <tr>\n",
       "      <th>1</th>\n",
       "      <td>Data Deficient</td>\n",
       "      <td>115</td>\n",
       "    </tr>\n",
       "    <tr>\n",
       "      <th>2</th>\n",
       "      <td>Endangered</td>\n",
       "      <td>56</td>\n",
       "    </tr>\n",
       "    <tr>\n",
       "      <th>3</th>\n",
       "      <td>Least Concern</td>\n",
       "      <td>384</td>\n",
       "    </tr>\n",
       "    <tr>\n",
       "      <th>4</th>\n",
       "      <td>Vulnerable</td>\n",
       "      <td>170</td>\n",
       "    </tr>\n",
       "  </tbody>\n",
       "</table>\n",
       "</div>"
      ],
      "text/plain": [
       "     Conservation Status  Observation ID\n",
       "0  Critically Endangered             275\n",
       "1         Data Deficient             115\n",
       "2             Endangered              56\n",
       "3          Least Concern             384\n",
       "4             Vulnerable             170"
      ]
     },
     "execution_count": 7,
     "metadata": {},
     "output_type": "execute_result"
    }
   ],
   "source": [
    "df_conservation=df.groupby('Conservation Status',as_index=True)['Observation ID'].count()\n",
    "df_conservation=df_conservation.reset_index()\n",
    "df_conservation.head()"
   ]
  },
  {
   "cell_type": "code",
   "execution_count": 8,
   "id": "f60b8360-c59a-44bf-aba3-ffe84f9b53d4",
   "metadata": {},
   "outputs": [
    {
     "data": {
      "image/png": "[encoded data removed]",
      "text/plain": [
       "<Figure size 1000x800 with 1 Axes>"
      ]
     },
     "metadata": {},
     "output_type": "display_data"
    }
   ],
   "source": [
    "plt.figure(figsize=(10,8))\n",
    "bars=plt.bar(df_conservation['Conservation Status'],df_conservation['Observation ID'],color='crimson')\n",
    "plt.title('Number of Crocodiles by COnservation Status')\n",
    "plt.xlabel('Status')\n",
    "plt.xticks(rotation=45)\n",
    "plt.bar_label(bars)\n",
    "plt.tight_layout()\n",
    "plt.show()#visualize"
   ]
  },
  {
   "cell_type": "markdown",
   "id": "58e3de32-50f7-45a6-ac71-615d1830292f",
   "metadata": {},
   "source": [
    "## 5. Create a scatter plot to see the relationship between length and weight."
   ]
  },
  {
   "cell_type": "code",
   "execution_count": 9,
   "id": "533b8602-384b-4a98-93e7-74fc0b80ab2d",
   "metadata": {},
   "outputs": [
    {
     "data": {
      "image/png": "[encoded data removed]",
      "text/plain": [
       "<Figure size 640x480 with 1 Axes>"
      ]
     },
     "metadata": {},
     "output_type": "display_data"
    }
   ],
   "source": [
    "plt.scatter(df['Observed Length (m)'],df['Observed Weight (kg)'],color='crimson',marker='o')\n",
    "plt.tight_layout()\n",
    "plt.show()"
   ]
  },
  {
   "cell_type": "code",
   "execution_count": 10,
   "id": "cd800720-1b1b-4796-b32f-7d564ac4ff94",
   "metadata": {},
   "outputs": [
    {
     "name": "stdout",
     "output_type": "stream",
     "text": [
      "0.843435206362499\n"
     ]
    }
   ],
   "source": [
    "correlation = df['Observed Weight (kg)'].corr(df['Observed Length (m)'])\n",
    "print(correlation)"
   ]
  },
  {
   "cell_type": "markdown",
   "id": "e0dae8aa-7af5-4f87-a1fd-ede32dc173d1",
   "metadata": {},
   "source": [
    "## 6. Calculate the average crocodile length for each age class"
   ]
  },
  {
   "cell_type": "code",
   "execution_count": 11,
   "id": "ea803e14-dd0f-4027-8811-b1cc94471fd7",
   "metadata": {},
   "outputs": [
    {
     "data": {
      "text/html": [
       "<div>\n",
       "<style scoped>\n",
       "    .dataframe tbody tr th:only-of-type {\n",
       "        vertical-align: middle;\n",
       "    }\n",
       "\n",
       "    .dataframe tbody tr th {\n",
       "        vertical-align: top;\n",
       "    }\n",
       "\n",
       "    .dataframe thead th {\n",
       "        text-align: right;\n",
       "    }\n",
       "</style>\n",
       "<table border=\"1\" class=\"dataframe\">\n",
       "  <thead>\n",
       "    <tr style=\"text-align: right;\">\n",
       "      <th></th>\n",
       "      <th>Age Class</th>\n",
       "      <th>Observed Length (m)</th>\n",
       "    </tr>\n",
       "  </thead>\n",
       "  <tbody>\n",
       "    <tr>\n",
       "      <th>0</th>\n",
       "      <td>Adult</td>\n",
       "      <td>1.90</td>\n",
       "    </tr>\n",
       "    <tr>\n",
       "      <th>1</th>\n",
       "      <td>Adult</td>\n",
       "      <td>4.09</td>\n",
       "    </tr>\n",
       "    <tr>\n",
       "      <th>2</th>\n",
       "      <td>Juvenile</td>\n",
       "      <td>1.08</td>\n",
       "    </tr>\n",
       "    <tr>\n",
       "      <th>3</th>\n",
       "      <td>Adult</td>\n",
       "      <td>2.42</td>\n",
       "    </tr>\n",
       "    <tr>\n",
       "      <th>4</th>\n",
       "      <td>Adult</td>\n",
       "      <td>3.75</td>\n",
       "    </tr>\n",
       "  </tbody>\n",
       "</table>\n",
       "</div>"
      ],
      "text/plain": [
       "  Age Class  Observed Length (m)\n",
       "0     Adult                 1.90\n",
       "1     Adult                 4.09\n",
       "2  Juvenile                 1.08\n",
       "3     Adult                 2.42\n",
       "4     Adult                 3.75"
      ]
     },
     "execution_count": 11,
     "metadata": {},
     "output_type": "execute_result"
    }
   ],
   "source": [
    "df[['Age Class','Observed Length (m)']].head()#checking"
   ]
  },
  {
   "cell_type": "code",
   "execution_count": 12,
   "id": "ab81ceab-c19f-4004-adb9-db03f325a1fb",
   "metadata": {},
   "outputs": [
    {
     "data": {
      "text/plain": [
       "array(['Adult', 'Juvenile', 'Subadult', 'Hatchling'], dtype=object)"
      ]
     },
     "execution_count": 12,
     "metadata": {},
     "output_type": "execute_result"
    }
   ],
   "source": [
    "df['Age Class'].unique()"
   ]
  },
  {
   "cell_type": "code",
   "execution_count": 13,
   "id": "8d819b4c-0642-44da-9814-4d8559b3884b",
   "metadata": {},
   "outputs": [
    {
     "data": {
      "text/html": [
       "<div>\n",
       "<style scoped>\n",
       "    .dataframe tbody tr th:only-of-type {\n",
       "        vertical-align: middle;\n",
       "    }\n",
       "\n",
       "    .dataframe tbody tr th {\n",
       "        vertical-align: top;\n",
       "    }\n",
       "\n",
       "    .dataframe thead th {\n",
       "        text-align: right;\n",
       "    }\n",
       "</style>\n",
       "<table border=\"1\" class=\"dataframe\">\n",
       "  <thead>\n",
       "    <tr style=\"text-align: right;\">\n",
       "      <th></th>\n",
       "      <th>Age Class</th>\n",
       "      <th>Observed Length (m)</th>\n",
       "    </tr>\n",
       "  </thead>\n",
       "  <tbody>\n",
       "    <tr>\n",
       "      <th>0</th>\n",
       "      <td>Adult</td>\n",
       "      <td>2.835784</td>\n",
       "    </tr>\n",
       "    <tr>\n",
       "      <th>3</th>\n",
       "      <td>Subadult</td>\n",
       "      <td>2.625547</td>\n",
       "    </tr>\n",
       "    <tr>\n",
       "      <th>2</th>\n",
       "      <td>Juvenile</td>\n",
       "      <td>1.546701</td>\n",
       "    </tr>\n",
       "    <tr>\n",
       "      <th>1</th>\n",
       "      <td>Hatchling</td>\n",
       "      <td>0.414082</td>\n",
       "    </tr>\n",
       "  </tbody>\n",
       "</table>\n",
       "</div>"
      ],
      "text/plain": [
       "   Age Class  Observed Length (m)\n",
       "0      Adult             2.835784\n",
       "3   Subadult             2.625547\n",
       "2   Juvenile             1.546701\n",
       "1  Hatchling             0.414082"
      ]
     },
     "execution_count": 13,
     "metadata": {},
     "output_type": "execute_result"
    }
   ],
   "source": [
    "df_length=df.groupby('Age Class',as_index=True)['Observed Length (m)'].mean()#groupby\n",
    "df_length=df_length.reset_index()#series to dataframe\n",
    "df_length=df_length.sort_values(by='Observed Length (m)', ascending=False)\n",
    "df_length[['Age Class','Observed Length (m)']].head()#display"
   ]
  },
  {
   "cell_type": "markdown",
   "id": "2590a4e4-d9a5-4d88-85d7-9b3c2547f060",
   "metadata": {},
   "source": [
    "## 7. Convert the date column to 'datetime' format and create a year column."
   ]
  },
  {
   "cell_type": "code",
   "execution_count": 14,
   "id": "c4f0c85a-59b1-42d1-85e4-83f3789b9fcd",
   "metadata": {},
   "outputs": [
    {
     "data": {
      "text/plain": [
       "0    31-03-2018\n",
       "1    28-01-2015\n",
       "2     7/12/2010\n",
       "3     1/11/2019\n",
       "4    15-07-2019\n",
       "Name: Date of Observation, dtype: object"
      ]
     },
     "execution_count": 14,
     "metadata": {},
     "output_type": "execute_result"
    }
   ],
   "source": [
    "df['Date of Observation'].head()"
   ]
  },
  {
   "cell_type": "code",
   "execution_count": 15,
   "id": "1f34adf2-9997-4099-bd58-d48937d3af99",
   "metadata": {},
   "outputs": [
    {
     "ename": "_IncompleteInputError",
     "evalue": "incomplete input (2594763919.py, line 4)",
     "output_type": "error",
     "traceback": [
      "\u001b[1;36m  Cell \u001b[1;32mIn[15], line 4\u001b[1;36m\u001b[0m\n\u001b[1;33m    dayfirst=True #tell that day is the first format)\u001b[0m\n\u001b[1;37m                                                     ^\u001b[0m\n\u001b[1;31m_IncompleteInputError\u001b[0m\u001b[1;31m:\u001b[0m incomplete input\n"
     ]
    }
   ],
   "source": [
    "df['Date of Observation']=pd.to_datetime(df['Date of Observation'], \n",
    "                                          errors='coerce', #convert to NaT\n",
    "                                         format='mixed', #notify that the format is mixed\n",
    "                                          dayfirst=True #tell that day is the first format)"
   ]
  },
  {
   "cell_type": "code",
   "execution_count": null,
   "id": "60356fe9-eaa5-4431-a588-a7e9535de6db",
   "metadata": {},
   "outputs": [],
   "source": [
    "print(df['Date of Observation'])"
   ]
  },
  {
   "cell_type": "markdown",
   "id": "fed8c7ba-8bea-45fd-a292-a9c6ddbd4fef",
   "metadata": {},
   "source": [
    "## 8. Explain how to test for weight differences between male and female crocodiles"
   ]
  },
  {
   "cell_type": "code",
   "execution_count": null,
   "id": "26b9579c-5998-4f73-be2d-d85f31ccb7d0",
   "metadata": {},
   "outputs": [],
   "source": [
    "df['Sex'].unique() #check"
   ]
  },
  {
   "cell_type": "code",
   "execution_count": null,
   "id": "4b4617aa-f89f-43d0-92b7-5793125f051b",
   "metadata": {},
   "outputs": [],
   "source": [
    "df_sex=df.groupby('Sex',as_index=False).agg({\n",
    "    'Observed Weight (kg)': ['sum', 'mean','count']\n",
    "})#groupby to calculate teh sum and mean\n",
    "\n",
    "df_sex.columns = ['Sex', 'Total_Weight', 'Mean_Weight','Count Weight']#define the columns\n",
    "diff_total =  df_sex.loc[1, 'Total_Weight'] - df_sex.loc[0, 'Total_Weight']\n",
    "diff_mean = df_sex.loc[1, 'Mean_Weight'] - df_sex.loc[0, 'Mean_Weight']\n",
    "diff_count = df_sex.loc[1, 'Count Weight'] - df_sex.loc[0, 'Count Weight'] \n",
    "df_sex.loc[len(df_sex)] = ['Difference (Male - Female)', diff_total, diff_mean,diff_count] #added the new row contain the different between male and female\n",
    "\n",
    "df_sex.head()"
   ]
  },
  {
   "cell_type": "code",
   "execution_count": null,
   "id": "b947dec8-d4ba-4bab-8aa3-6c731ed1b3a9",
   "metadata": {},
   "outputs": [],
   "source": [
    "plt.figure(figsize=(20,6))\n",
    "plt.subplot(1,3,1)\n",
    "total=plt.bar(df_sex['Sex'],df_sex['Total_Weight'],color='skyblue')\n",
    "plt.title('Total Weight by Sex (kg)')\n",
    "plt.bar_label(total)\n",
    "\n",
    "plt.subplot(1,3,2)\n",
    "ave=plt.bar(df_sex['Sex'],df_sex['Mean_Weight'],color='red')\n",
    "plt.title('Mean Weight by Sex (kg)')\n",
    "plt.bar_label(ave)\n",
    "\n",
    "plt.subplot(1,3,3)\n",
    "num=plt.bar(df_sex['Sex'],df_sex['Count Weight'],color='green')\n",
    "plt.title('Count Weight by Sex')\n",
    "plt.bar_label(num)\n",
    "\n",
    "plt.tight_layout()\n",
    "plt.show()"
   ]
  },
  {
   "cell_type": "markdown",
   "id": "8186f461-3e9a-4e92-9d1b-b0a28e5dbf0a",
   "metadata": {},
   "source": [
    "## 9. What features and models would you use to predict crocodile weight?"
   ]
  },
  {
   "cell_type": "code",
   "execution_count": null,
   "id": "0a5ce9e0-d565-453c-bd40-6c7613fd4ba7",
   "metadata": {},
   "outputs": [],
   "source": [
    "# Feature engineering\n",
    "df['Year'] = pd.to_datetime(df['Date of Observation'], dayfirst=True).dt.year\n",
    "df['Age Class'] = df['Age Class'].map({'Hatchling': 0, 'Juvenile': 1, 'Subadult': 2, 'Adult': 3})\n",
    "\n",
    "# Define features and target\n",
    "features = ['Observed Length (m)', 'Age Class', 'Year', 'Sex', 'Country/Region', 'Habitat Type']\n",
    "X = df[features]\n",
    "y = df['Observed Weight (kg)']\n",
    "\n",
    "# Preprocessing: Scale numerical, encode categorical\n",
    "numerical_features = ['Observed Length (m)', 'Age Class', 'Year']\n",
    "categorical_features = ['Sex', 'Country/Region', 'Habitat Type']\n",
    "\n",
    "preprocessor = ColumnTransformer(\n",
    "    transformers=[\n",
    "        ('num', StandardScaler(), numerical_features),\n",
    "        ('cat', OneHotEncoder(handle_unknown='ignore'), categorical_features)\n",
    "    ])\n",
    "\n",
    "# Split data\n",
    "X_train, X_test, y_train, y_test = train_test_split(X, y, test_size=0.2, random_state=42)\n",
    "\n",
    "# Create pipeline with a model (e.g., Random Forest)\n",
    "model = Pipeline(steps=[\n",
    "    ('preprocessor', preprocessor),\n",
    "    ('regressor', RandomForestRegressor(n_estimators=100, random_state=42))\n",
    "])\n",
    "\n",
    "# Train and evaluate\n",
    "model.fit(X_train, y_train)\n",
    "y_pred = model.predict(X_test)\n",
    "print(f\"MAE: {mean_absolute_error(y_test, y_pred):.2f}\")\n",
    "print(f\"R²: {r2_score(y_test, y_pred):.2f}\")"
   ]
  },
  {
   "cell_type": "markdown",
   "id": "a8274cfa-e3e2-4a42-85c4-cf8ca309e3e4",
   "metadata": {},
   "source": [
    "## 10. What metrics would be appropriate for evaluating the weight prediction model?"
   ]
  },
  {
   "cell_type": "code",
   "execution_count": null,
   "id": "a1d0085d-ac66-45c4-98d9-aae4b6e415e5",
   "metadata": {},
   "outputs": [],
   "source": [
    "# Evaluasi model Random Forest\n",
    "mae_rf = mean_absolute_error(y_test, y_pred_rf)\n",
    "r2_rf = r2_score(y_test, y_pred_rf)\n",
    "mse_rf = mean_squared_error(y_test, y_pred_rf)\n",
    "rmse_rf = np.sqrt(mse_rf)  # Menggunakan np.sqrt() untuk RMSE\n",
    "\n",
    "# Evaluasi model Gradient Boosting\n",
    "mae_gb = mean_absolute_error(y_test, y_pred_gb)\n",
    "r2_gb = r2_score(y_test, y_pred_gb)\n",
    "mse_gb = mean_squared_error(y_test, y_pred_gb)\n",
    "rmse_gb = np.sqrt(mse_gb)  # Menggunakan np.sqrt() untuk RMSE\n",
    "\n",
    "# Menampilkan hasil evaluasi\n",
    "print(\"Random Forest - MAE: {:.2f}\".format(mae_rf))\n",
    "print(\"Random Forest - R²: {:.2f}\".format(r2_rf))\n",
    "print(\"Random Forest - MSE: {:.2f}\".format(mse_rf))\n",
    "print(\"Random Forest - RMSE: {:.2f}\".format(rmse_rf))\n",
    "\n",
    "print(\"Gradient Boosting - MAE: {:.2f}\".format(mae_gb))\n",
    "print(\"Gradient Boosting - R²: {:.2f}\".format(r2_gb))\n",
    "print(\"Gradient Boosting - MSE: {:.2f}\".format(mse_gb))\n",
    "print(\"Gradient Boosting - RMSE: {:.2f}\".format(rmse_gb))\n"
   ]
  },
  {
   "cell_type": "markdown",
   "id": "e5a3d48c-857c-435b-9988-340af948470c",
   "metadata": {},
   "source": [
    "## Bonus"
   ]
  },
  {
   "cell_type": "code",
   "execution_count": null,
   "id": "58d80822-79cb-4dbe-b6ef-fd09819fba83",
   "metadata": {},
   "outputs": [],
   "source": [
    "df_conservation=df.groupby('Conservation Status',as_index=True)['Conservation Status'].count().reset_index(name='Count')\n",
    "df_conservation.head() #make a dataframe for conservation status"
   ]
  },
  {
   "cell_type": "code",
   "execution_count": null,
   "id": "16b8583a-ff6a-49e3-8fe3-3fc768d49efa",
   "metadata": {},
   "outputs": [],
   "source": [
    "plt.pie(df_conservation['Count'],labels=df_conservation['Conservation Status'], autopct='%1.1f%%')\n",
    "plt.title('Distribution of Conservation Status')\n",
    "plt.show() #make visualization "
   ]
  },
  {
   "cell_type": "markdown",
   "id": "58915d55-9a07-4fea-bb5c-1c408da07af9",
   "metadata": {},
   "source": [
    "## Bonus #2"
   ]
  },
  {
   "cell_type": "code",
   "execution_count": null,
   "id": "449a2503-3a0b-4eb8-b6ee-802f7aa94e3c",
   "metadata": {},
   "outputs": [],
   "source": [
    "df['Age Class'] = df['Age Class'].map({0 : 'Hatchling', 1:'Juvenile',2: 'Subadult',3: 'Adult'})\n",
    "df_ave=df.groupby('Age Class',as_index=True)[['Observed Weight (kg)','Observed Length (m)']].mean().reset_index()\n",
    "df_ave.head()"
   ]
  },
  {
   "cell_type": "code",
   "execution_count": null,
   "id": "50082d5e-9520-4386-9188-4d2ee9efbe25",
   "metadata": {},
   "outputs": [],
   "source": [
    "plt.figure(figsize=(15,6))\n",
    "plt.subplot(1,2,1)\n",
    "weight=plt.bar(df_ave['Age Class'],df_ave['Observed Weight (kg)'])\n",
    "plt.title('Average Weigth by Age Class')\n",
    "plt.bar_label(weight)\n",
    "\n",
    "plt.subplot(1,2,2)\n",
    "length=plt.bar(df_ave['Age Class'],df_ave['Observed Length (m)'],color='skyblue')\n",
    "plt.title('Average Length by Age Class')\n",
    "plt.bar_label(length)\n",
    "\n",
    "plt.tight_layout()\n",
    "plt.show()"
   ]
  }
 ],
 "metadata": {
  "kernelspec": {
   "display_name": "Python 3 (ipykernel)",
   "language": "python",
   "name": "python3"
  },
  "language_info": {
   "codemirror_mode": {
    "name": "ipython",
    "version": 3
   },
   "file_extension": ".py",
   "mimetype": "text/x-python",
   "name": "python",
   "nbconvert_exporter": "python",
   "pygments_lexer": "ipython3",
   "version": "3.13.5"
  }
 },
 "nbformat": 4,
 "nbformat_minor": 5
}
