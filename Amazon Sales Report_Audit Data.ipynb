{
 "cells": [
  {
   "cell_type": "code",
   "execution_count": 3,
   "id": "896a1371-1ec8-4298-be53-24d006013523",
   "metadata": {},
   "outputs": [
    {
     "name": "stderr",
     "output_type": "stream",
     "text": [
      "C:\\Users\\FARUQ\\AppData\\Local\\Temp\\ipykernel_5080\\2565098952.py:6: DtypeWarning: Columns (23) have mixed types. Specify dtype option on import or set low_memory=False.\n",
      "  df = pd.read_csv (r\"C:\\Users\\FARUQ\\Downloads\\archive\\Amazon Sale Report.csv\")\n"
     ]
    },
    {
     "data": {
      "text/plain": [
       "index                   int64\n",
       "Order ID               object\n",
       "Date                   object\n",
       "Status                 object\n",
       "Fulfilment             object\n",
       "Sales Channel          object\n",
       "ship-service-level     object\n",
       "Style                  object\n",
       "SKU                    object\n",
       "Category               object\n",
       "Size                   object\n",
       "ASIN                   object\n",
       "Courier Status         object\n",
       "Qty                     int64\n",
       "currency               object\n",
       "Amount                float64\n",
       "ship-city              object\n",
       "ship-state             object\n",
       "ship-postal-code      float64\n",
       "ship-country           object\n",
       "promotion-ids          object\n",
       "B2B                      bool\n",
       "fulfilled-by           object\n",
       "Unnamed: 22            object\n",
       "dtype: object"
      ]
     },
     "execution_count": 3,
     "metadata": {},
     "output_type": "execute_result"
    }
   ],
   "source": [
    "import pandas as pd\n",
    "import numpy as np\n",
    "import seaborn as sns\n",
    "import matplotlib.pyplot as plt\n",
    "\n",
    "df = pd.read_csv (r\"C:\\Users\\FARUQ\\Downloads\\archive\\Amazon Sale Report.csv\")\n",
    "df.dtypes"
   ]
  },
  {
   "cell_type": "markdown",
   "id": "0e349b13-35c1-4f7c-8491-7b4871e26a13",
   "metadata": {},
   "source": [
    "# Audit Data\n",
    "\n",
    "1. Jumlah Baris dan Kolom\n",
    "Hitung jumlah baris dan kolom dalam dataset.\n",
    "2. Rentang Tanggal\n",
    "Tentukan rentang tanggal yang terdapat dalam kolom 'Date'. Tanggal pertama dan terakhir.\n",
    "3. Jumlah Order Unik\n",
    "Hitung jumlah order unik berdasarkan kolom 'Order ID'.\n",
    "4. Proporsi Nilai Hilang Per Kolom\n",
    "Hitung proporsi nilai hilang (missing values) untuk setiap kolom dalam dataset dan tampilkan dalam bentuk persentase."
   ]
  },
  {
   "cell_type": "markdown",
   "id": "6759b72d-9d39-44f9-9fa3-9629b5c9d5ef",
   "metadata": {},
   "source": [
    "## 1. Jumlah Baris dan Kolom"
   ]
  },
  {
   "cell_type": "code",
   "execution_count": 53,
   "id": "b2b5cedd-0b0e-4787-a4db-e26911d91867",
   "metadata": {},
   "outputs": [
    {
     "name": "stdout",
     "output_type": "stream",
     "text": [
      "128975 24\n"
     ]
    }
   ],
   "source": [
    "baris = df.shape[0]\n",
    "kolom = df.shape[1]\n",
    "print (baris, kolom)\n",
    "\n",
    "#jumlah baris :  128975  jumlah kolom : 24"
   ]
  },
  {
   "cell_type": "markdown",
   "id": "b6d82622-bcb8-4c0f-b98a-31cca0c1d0a3",
   "metadata": {},
   "source": [
    "## 2. Rentang Tanggal"
   ]
  },
  {
   "cell_type": "code",
   "execution_count": 28,
   "id": "4c1af724-770d-4500-8382-7d6e6593f2c8",
   "metadata": {},
   "outputs": [
    {
     "name": "stdout",
     "output_type": "stream",
     "text": [
      "90 days 00:00:00\n"
     ]
    }
   ],
   "source": [
    "df['Date'] = pd.to_datetime(df['Date'], format='%Y-%m-%d')\n",
    "range_tanggal = df['Date'].max() - df['Date'].min()\n",
    "print(range_tanggal)\n",
    "\n",
    "# Rentang tanggal : 90 days"
   ]
  },
  {
   "cell_type": "markdown",
   "id": "7661d17b-4b60-4c92-baf3-9f0f695e7299",
   "metadata": {},
   "source": [
    "## 3. Jumlah Order Unik"
   ]
  },
  {
   "cell_type": "code",
   "execution_count": 36,
   "id": "e7b863a4-bee3-472a-8911-d0882f40d8ea",
   "metadata": {},
   "outputs": [
    {
     "data": {
      "text/plain": [
       "array(['405-8078784-5731545', '171-9198151-1101146',\n",
       "       '404-0687676-7273146', ..., '407-9547469-3152358',\n",
       "       '402-6184140-0545956', '408-7436540-8728312'], dtype=object)"
      ]
     },
     "execution_count": 36,
     "metadata": {},
     "output_type": "execute_result"
    }
   ],
   "source": [
    "df['Order ID'].unique()"
   ]
  },
  {
   "cell_type": "code",
   "execution_count": 54,
   "id": "0175dd93-484a-41ac-80cc-d5a9e079b117",
   "metadata": {},
   "outputs": [
    {
     "name": "stdout",
     "output_type": "stream",
     "text": [
      "120378\n"
     ]
    }
   ],
   "source": [
    "unik = df['Order ID'].nunique()\n",
    "print(unik)\n",
    "\n",
    "#Jumlah order unik adalah 120378"
   ]
  },
  {
   "cell_type": "markdown",
   "id": "1a7be713-b3cc-48f0-bdb0-63eade6e8fd9",
   "metadata": {},
   "source": [
    "## 4. Proporsi Nilai Hilang Per Kolom"
   ]
  },
  {
   "cell_type": "code",
   "execution_count": 47,
   "id": "2c1cbcbe-e69e-4c39-b7b9-5f83641cd025",
   "metadata": {},
   "outputs": [
    {
     "name": "stdout",
     "output_type": "stream",
     "text": [
      "index                 0.000000\n",
      "Order ID              0.000000\n",
      "Date                  0.000000\n",
      "Status                0.000000\n",
      "Fulfilment            0.000000\n",
      "Sales Channel         0.000000\n",
      "ship-service-level    0.000000\n",
      "Style                 0.000000\n",
      "SKU                   0.000000\n",
      "Category              0.000000\n",
      "Size                  0.000000\n",
      "ASIN                  0.000000\n",
      "Courier Status        0.053282\n",
      "Qty                   0.000000\n",
      "currency              0.060438\n",
      "Amount                0.060438\n",
      "ship-city             0.000256\n",
      "ship-state            0.000256\n",
      "ship-postal-code      0.000256\n",
      "ship-country          0.000256\n",
      "promotion-ids         0.381105\n",
      "B2B                   0.000000\n",
      "fulfilled-by          0.695468\n",
      "Unnamed: 22           0.380306\n",
      "dtype: float64\n"
     ]
    }
   ],
   "source": [
    "nilai_hilang = df.isnull().mean()*100\n",
    "print (nilai_hilang)\n",
    "\n",
    "# dibawah ini adalah proporsi missing value per kolom"
   ]
  },
  {
   "cell_type": "code",
   "execution_count": 52,
   "id": "66ae09f7-df6f-4305-8e75-ea1d341b4bb5",
   "metadata": {},
   "outputs": [
    {
     "name": "stdout",
     "output_type": "stream",
     "text": [
      "210495   6.800251986819152\n"
     ]
    }
   ],
   "source": [
    "total_nilai_hilang = df.isnull().sum().sum()\n",
    "rata2_nilai_hilang = df.isnull().mean().mean()*100\n",
    "print (total_nilai_hilang,' ',rata2_nilai_hilang)\n",
    "\n",
    "#total nilai hilang :210495\n",
    "#rata2 nilai hilang : 6.800251986819152%"
   ]
  },
  {
   "cell_type": "markdown",
   "id": "ad84c7fe-61cd-4d64-bfdb-61bd22fd1df0",
   "metadata": {},
   "source": [
    "## Hasil"
   ]
  },
  {
   "cell_type": "code",
   "execution_count": 66,
   "id": "a58e2326-2891-44fd-b7b2-97582555ef07",
   "metadata": {},
   "outputs": [
    {
     "name": "stdout",
     "output_type": "stream",
     "text": [
      "Nomer 1 \n",
      "Jumlah Baris :  128975 \n",
      "Jumlah Kolom :  24 \n",
      "\n",
      "Nomer 2 \n",
      "Rentang Tanggal :  90 days 00:00:00 \n",
      "\n",
      "Nomer 3 \n",
      "Jumlah Order Unik :  120378 \n",
      "\n",
      "Nomer 4 \n",
      "Jumlah Nilai Hilang :  210495 \n",
      "Rata-rata Nilai Hilang :  6.800251986819152 %\n"
     ]
    }
   ],
   "source": [
    "print (\n",
    "    'Nomer 1', \n",
    "    '\\nJumlah Baris : ', baris,\n",
    "    '\\nJumlah Kolom : ',kolom,\n",
    "    '\\n\\nNomer 2',\n",
    "    '\\nRentang Tanggal : ',range_tanggal,\n",
    "    '\\n\\nNomer 3',\n",
    "    '\\nJumlah Order Unik : ',unik,\n",
    "    '\\n\\nNomer 4',\n",
    "    '\\nJumlah Nilai Hilang : ',total_nilai_hilang,\n",
    "    '\\nRata-rata Nilai Hilang : ', rata2_nilai_hilang,'%',\n",
    ")"
   ]
  },
  {
   "cell_type": "code",
   "execution_count": null,
   "id": "cb55ee4a-626b-4bb0-abd2-3663d786374d",
   "metadata": {},
   "outputs": [],
   "source": []
  }
 ],
 "metadata": {
  "kernelspec": {
   "display_name": "Python 3 (ipykernel)",
   "language": "python",
   "name": "python3"
  },
  "language_info": {
   "codemirror_mode": {
    "name": "ipython",
    "version": 3
   },
   "file_extension": ".py",
   "mimetype": "text/x-python",
   "name": "python",
   "nbconvert_exporter": "python",
   "pygments_lexer": "ipython3",
   "version": "3.13.5"
  }
 },
 "nbformat": 4,
 "nbformat_minor": 5
}
